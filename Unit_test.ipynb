{
 "cells": [
  {
   "cell_type": "code",
   "execution_count": 1,
   "metadata": {},
   "outputs": [
    {
     "name": "stdout",
     "output_type": "stream",
     "text": [
      "Initializing package sentio_prober_control\n",
      "Initializing package sentio_prober_control.Communication\n",
      "Initializing package sentio_prober_control.Sentio\n",
      "Initializing package sentio_prober_control.Sentio.CommandGroups\n"
     ]
    }
   ],
   "source": [
    "import pyvisa\n",
    "from sentio_prober_control.Communication.CommunicatorGpib import *\n",
    "from sentio_prober_control.Sentio.ProberSentio import *\n",
    "from pymeasure.instruments.keithley import Keithley2450\n",
    "import numpy as np\n",
    "import pandas as pd\n",
    "from time import sleep"
   ]
  },
  {
   "cell_type": "markdown",
   "metadata": {},
   "source": [
    "# Test Auto-Steeping without Contacting and Separation"
   ]
  },
  {
   "cell_type": "code",
   "execution_count": 50,
   "metadata": {},
   "outputs": [],
   "source": [
    "class CustomCommunicatorGpib(CommunicatorGpib):\n",
    "   def __init__(self, vendor, address):\n",
    "       super().__init__(vendor)\n",
    "       self.address = address\n",
    "       self.rm = pyvisa.ResourceManager()\n",
    "       self.instrument = self.rm.open_resource(self.address)\n",
    "   def set_timeout(self, timeout_ms):\n",
    "       self.instrument.timeout = timeout_ms\n",
    "   def send(self, command):\n",
    "       self.instrument.write(command)\n",
    "   def read_line(self):\n",
    "       return self.instrument.read()"
   ]
  },
  {
   "cell_type": "code",
   "execution_count": 51,
   "metadata": {},
   "outputs": [
    {
     "name": "stdout",
     "output_type": "stream",
     "text": [
      "Instrument ID: MPI Corporation,Sentio - Probe System Software Suite,,3.6.7.1093,12/29/2022\n",
      "\n"
     ]
    }
   ],
   "source": [
    "\n",
    "# Create the custom communicator with National Instruments card\n",
    "comm = CustomCommunicatorGpib(GpibCardVendor.NationalInstruments, \"GPIB0::13::INSTR\")\n",
    "# Set the timeout period (example: 10000 ms = 10 seconds)\n",
    "comm.set_timeout(10000) # Timeout is set in milliseconds\n",
    "# Initialize SentioProber with the communicator\n",
    "prober = SentioProber(comm)\n",
    "# Send an identification query to the instrument\n",
    "comm.send(\"*IDN?\")\n",
    "response = comm.read_line()\n",
    "print(\"Instrument ID: {0}\".format(response))"
   ]
  },
  {
   "cell_type": "code",
   "execution_count": 52,
   "metadata": {},
   "outputs": [
    {
     "name": "stdout",
     "output_type": "stream",
     "text": [
      "1 times landing Started\n",
      "Moved to the first die\n",
      "Position -1, -1 (Site: 2)\n",
      "Continuing stepping\n",
      "Position -1, -1 (Site: 3)\n",
      "Continuing stepping\n",
      "Position -1, -1 (Site: 4)\n",
      "Continuing stepping\n",
      "Position -1, -1 (Site: 5)\n",
      "Continuing stepping\n",
      "Position -1, -1 (Site: 6)\n",
      "Continuing stepping\n",
      "Position -1, -1 (Site: 7)\n",
      "Continuing stepping\n",
      "Position -1, -1 (Site: 8)\n",
      "Continuing stepping\n",
      "Position -1, -1 (Site: 9)\n",
      "Continuing stepping\n",
      "Position -1, -1 (Site: 10)\n",
      "Continuing stepping\n",
      "Position 0, -1 (Site: 1)\n",
      "Continuing stepping\n",
      "Position 0, -1 (Site: 2)\n",
      "Continuing stepping\n",
      "Position 0, -1 (Site: 3)\n",
      "Continuing stepping\n",
      "Position 0, -1 (Site: 4)\n",
      "Continuing stepping\n",
      "Position 0, -1 (Site: 5)\n",
      "Continuing stepping\n",
      "Position 0, -1 (Site: 6)\n",
      "Continuing stepping\n",
      "Position 0, -1 (Site: 7)\n",
      "Continuing stepping\n",
      "Position 0, -1 (Site: 8)\n",
      "Continuing stepping\n",
      "Position 0, -1 (Site: 9)\n",
      "Continuing stepping\n",
      "Position 0, -1 (Site: 10)\n",
      "Continuing stepping\n",
      "Position 1, -1 (Site: 1)\n",
      "Continuing stepping\n",
      "Position 1, -1 (Site: 2)\n",
      "Continuing stepping\n",
      "Position 1, -1 (Site: 3)\n",
      "Continuing stepping\n",
      "Position 1, -1 (Site: 4)\n",
      "Continuing stepping\n",
      "Position 1, -1 (Site: 5)\n",
      "Continuing stepping\n",
      "Position 1, -1 (Site: 6)\n",
      "Continuing stepping\n",
      "Position 1, -1 (Site: 7)\n",
      "Continuing stepping\n",
      "Position 1, -1 (Site: 8)\n",
      "Continuing stepping\n",
      "Position 1, -1 (Site: 9)\n",
      "Continuing stepping\n",
      "Position 1, -1 (Site: 10)\n",
      "Continuing stepping\n",
      "Position 1, 0 (Site: 1)\n",
      "Continuing stepping\n",
      "Position 1, 0 (Site: 2)\n",
      "Continuing stepping\n",
      "Position 1, 0 (Site: 3)\n",
      "Continuing stepping\n",
      "Position 1, 0 (Site: 4)\n",
      "Continuing stepping\n",
      "Position 1, 0 (Site: 5)\n",
      "Continuing stepping\n",
      "Position 1, 0 (Site: 6)\n",
      "Continuing stepping\n",
      "Position 1, 0 (Site: 7)\n",
      "Continuing stepping\n",
      "Position 1, 0 (Site: 8)\n",
      "Continuing stepping\n",
      "Position 1, 0 (Site: 9)\n",
      "Continuing stepping\n",
      "Position 1, 0 (Site: 10)\n",
      "Continuing stepping\n",
      "Position 0, 0 (Site: 1)\n",
      "Continuing stepping\n",
      "Position 0, 0 (Site: 2)\n",
      "Continuing stepping\n",
      "Position 0, 0 (Site: 3)\n",
      "Continuing stepping\n",
      "Position 0, 0 (Site: 4)\n",
      "Continuing stepping\n",
      "Position 0, 0 (Site: 5)\n",
      "Continuing stepping\n",
      "Position 0, 0 (Site: 6)\n",
      "Continuing stepping\n",
      "Position 0, 0 (Site: 7)\n",
      "Continuing stepping\n",
      "Position 0, 0 (Site: 8)\n",
      "Continuing stepping\n",
      "Position 0, 0 (Site: 9)\n",
      "Continuing stepping\n",
      "Position 0, 0 (Site: 10)\n",
      "Continuing stepping\n",
      "Position -1, 0 (Site: 1)\n",
      "Continuing stepping\n",
      "Position -1, 0 (Site: 2)\n",
      "Continuing stepping\n",
      "Position -1, 0 (Site: 3)\n",
      "Continuing stepping\n",
      "Position -1, 0 (Site: 4)\n",
      "Continuing stepping\n",
      "Position -1, 0 (Site: 5)\n",
      "Continuing stepping\n",
      "Position -1, 0 (Site: 6)\n",
      "Continuing stepping\n",
      "Position -1, 0 (Site: 7)\n",
      "Continuing stepping\n",
      "Position -1, 0 (Site: 8)\n",
      "Continuing stepping\n",
      "Position -1, 0 (Site: 9)\n",
      "Continuing stepping\n",
      "Position -1, 0 (Site: 10)\n",
      "Continuing stepping\n",
      "Position -1, 1 (Site: 1)\n",
      "Continuing stepping\n",
      "Position -1, 1 (Site: 2)\n",
      "Continuing stepping\n",
      "Position -1, 1 (Site: 3)\n",
      "Continuing stepping\n",
      "Position -1, 1 (Site: 4)\n",
      "Continuing stepping\n",
      "Position -1, 1 (Site: 5)\n",
      "Continuing stepping\n",
      "Position -1, 1 (Site: 6)\n",
      "Continuing stepping\n",
      "Position -1, 1 (Site: 7)\n",
      "Continuing stepping\n",
      "Position -1, 1 (Site: 8)\n",
      "Continuing stepping\n",
      "Position -1, 1 (Site: 9)\n",
      "Continuing stepping\n",
      "Position -1, 1 (Site: 10)\n",
      "Continuing stepping\n",
      "Position 0, 1 (Site: 1)\n",
      "Continuing stepping\n",
      "Position 0, 1 (Site: 2)\n",
      "Continuing stepping\n",
      "Position 0, 1 (Site: 3)\n",
      "Continuing stepping\n",
      "Position 0, 1 (Site: 4)\n",
      "Continuing stepping\n",
      "Position 0, 1 (Site: 5)\n",
      "Continuing stepping\n",
      "Position 0, 1 (Site: 6)\n",
      "Continuing stepping\n",
      "Position 0, 1 (Site: 7)\n",
      "Continuing stepping\n",
      "Position 0, 1 (Site: 8)\n",
      "Continuing stepping\n",
      "Position 0, 1 (Site: 9)\n",
      "Continuing stepping\n",
      "Position 0, 1 (Site: 10)\n",
      "Continuing stepping\n",
      "Position 1, 1 (Site: 1)\n",
      "Continuing stepping\n",
      "Position 1, 1 (Site: 2)\n",
      "Continuing stepping\n",
      "Position 1, 1 (Site: 3)\n",
      "Continuing stepping\n",
      "Position 1, 1 (Site: 4)\n",
      "Continuing stepping\n",
      "Position 1, 1 (Site: 5)\n",
      "Continuing stepping\n",
      "Position 1, 1 (Site: 6)\n",
      "Continuing stepping\n",
      "Position 1, 1 (Site: 7)\n",
      "Continuing stepping\n",
      "Position 1, 1 (Site: 8)\n",
      "Continuing stepping\n",
      "Position 1, 1 (Site: 9)\n",
      "Continuing stepping\n",
      "Position 1, 1 (Site: 10)\n",
      "Continuing stepping\n"
     ]
    },
    {
     "ename": "ProberException",
     "evalue": "End of route",
     "output_type": "error",
     "traceback": [
      "\u001b[1;31m---------------------------------------------------------------------------\u001b[0m",
      "\u001b[1;31mProberException\u001b[0m                           Traceback (most recent call last)",
      "Cell \u001b[1;32mIn[52], line 19\u001b[0m\n\u001b[0;32m     16\u001b[0m \u001b[38;5;250m\u001b[39m\u001b[38;5;124;03m\"\"\" prober.map.step_die(2,1,2)\u001b[39;00m\n\u001b[0;32m     17\u001b[0m \u001b[38;5;124;03mbin_value = 0 \"\"\"\u001b[39;00m\n\u001b[0;32m     18\u001b[0m \u001b[38;5;28;01mwhile\u001b[39;00m \u001b[38;5;28;01mTrue\u001b[39;00m:\n\u001b[1;32m---> 19\u001b[0m     col, row, site \u001b[38;5;241m=\u001b[39m \u001b[43mprober\u001b[49m\u001b[38;5;241;43m.\u001b[39;49m\u001b[43mmap\u001b[49m\u001b[38;5;241;43m.\u001b[39;49m\u001b[43msubsites\u001b[49m\u001b[38;5;241;43m.\u001b[39;49m\u001b[43mbin_step_next\u001b[49m\u001b[43m(\u001b[49m\u001b[43mbin_value\u001b[49m\u001b[43m)\u001b[49m\n\u001b[0;32m     20\u001b[0m     \u001b[38;5;28mprint\u001b[39m(\u001b[38;5;124mf\u001b[39m\u001b[38;5;124m'\u001b[39m\u001b[38;5;124mPosition \u001b[39m\u001b[38;5;132;01m{\u001b[39;00mcol\u001b[38;5;132;01m}\u001b[39;00m\u001b[38;5;124m, \u001b[39m\u001b[38;5;132;01m{\u001b[39;00mrow\u001b[38;5;132;01m}\u001b[39;00m\u001b[38;5;124m (Site: \u001b[39m\u001b[38;5;132;01m{\u001b[39;00msite\u001b[38;5;132;01m}\u001b[39;00m\u001b[38;5;124m)\u001b[39m\u001b[38;5;124m'\u001b[39m)\n\u001b[0;32m     21\u001b[0m     sleep(\u001b[38;5;241m0.3\u001b[39m)\n",
      "File \u001b[1;32mc:\\Users\\yun.hai\\AppData\\Local\\Programs\\Python\\Python312\\Lib\\site-packages\\sentio_prober_control\\Sentio\\CommandGroups\\WafermapSubsiteCommandGroup.py:54\u001b[0m, in \u001b[0;36mWafermapSubsiteGroup.bin_step_next\u001b[1;34m(self, bin)\u001b[0m\n\u001b[0;32m     42\u001b[0m \u001b[38;5;250m\u001b[39m\u001b[38;5;124;03m\"\"\"Step to the next active subsite and assign bin code to current subsite.\u001b[39;00m\n\u001b[0;32m     43\u001b[0m \n\u001b[0;32m     44\u001b[0m \u001b[38;5;124;03mWraps the \"map:subsite:bin_step_next\" remote command.\u001b[39;00m\n\u001b[1;32m   (...)\u001b[0m\n\u001b[0;32m     50\u001b[0m \u001b[38;5;124;03m    A tuple containing the wafermap row, column and subsite index after the step.\u001b[39;00m\n\u001b[0;32m     51\u001b[0m \u001b[38;5;124;03m\"\"\"\u001b[39;00m\n\u001b[0;32m     52\u001b[0m \u001b[38;5;28mself\u001b[39m\u001b[38;5;241m.\u001b[39mcomm\u001b[38;5;241m.\u001b[39msend(\u001b[38;5;124mf\u001b[39m\u001b[38;5;124m\"\u001b[39m\u001b[38;5;124mmap:subsite:bin_step_next \u001b[39m\u001b[38;5;132;01m{\u001b[39;00m\u001b[38;5;28mbin\u001b[39m\u001b[38;5;132;01m}\u001b[39;00m\u001b[38;5;124m\"\u001b[39m)\n\u001b[1;32m---> 54\u001b[0m resp \u001b[38;5;241m=\u001b[39m \u001b[43mResponse\u001b[49m\u001b[38;5;241;43m.\u001b[39;49m\u001b[43mcheck_resp\u001b[49m\u001b[43m(\u001b[49m\u001b[38;5;28;43mself\u001b[39;49m\u001b[38;5;241;43m.\u001b[39;49m\u001b[43mcomm\u001b[49m\u001b[38;5;241;43m.\u001b[39;49m\u001b[43mread_line\u001b[49m\u001b[43m(\u001b[49m\u001b[43m)\u001b[49m\u001b[43m)\u001b[49m\n\u001b[0;32m     55\u001b[0m \u001b[38;5;28mself\u001b[39m\u001b[38;5;241m.\u001b[39m_parent_command_group\u001b[38;5;241m.\u001b[39m__end_of_route \u001b[38;5;241m=\u001b[39m (resp\u001b[38;5;241m.\u001b[39mstatus() \u001b[38;5;241m&\u001b[39m StatusBits\u001b[38;5;241m.\u001b[39mEndOfRoute) \u001b[38;5;241m==\u001b[39m StatusBits\u001b[38;5;241m.\u001b[39mEndOfRoute\n\u001b[0;32m     57\u001b[0m tok \u001b[38;5;241m=\u001b[39m resp\u001b[38;5;241m.\u001b[39mmessage()\u001b[38;5;241m.\u001b[39msplit(\u001b[38;5;124m\"\u001b[39m\u001b[38;5;124m,\u001b[39m\u001b[38;5;124m\"\u001b[39m)\n",
      "File \u001b[1;32mc:\\Users\\yun.hai\\AppData\\Local\\Programs\\Python\\Python312\\Lib\\site-packages\\sentio_prober_control\\Sentio\\Response.py:75\u001b[0m, in \u001b[0;36mResponse.check_resp\u001b[1;34m(str_resp)\u001b[0m\n\u001b[0;32m     73\u001b[0m resp \u001b[38;5;241m=\u001b[39m Response\u001b[38;5;241m.\u001b[39mparse_resp(str_resp)\n\u001b[0;32m     74\u001b[0m \u001b[38;5;28;01mif\u001b[39;00m \u001b[38;5;129;01mnot\u001b[39;00m resp\u001b[38;5;241m.\u001b[39mok():\n\u001b[1;32m---> 75\u001b[0m     \u001b[38;5;28;01mraise\u001b[39;00m ProberException(resp\u001b[38;5;241m.\u001b[39mmessage(), resp\u001b[38;5;241m.\u001b[39merrc())\n\u001b[0;32m     77\u001b[0m \u001b[38;5;28;01mreturn\u001b[39;00m resp\n",
      "\u001b[1;31mProberException\u001b[0m: End of route"
     ]
    }
   ],
   "source": [
    "\n",
    "landing_count = 1\n",
    "\n",
    "for l in range(1,landing_count+1):\n",
    "\n",
    "    print(f'{l} times landing Started')\n",
    "\n",
    "    col, row, site = prober.map.step_first_die()\n",
    "    bin_value = 0\n",
    "    print(\"Moved to the first die\")\n",
    "    sleep(0.3)\n",
    "    #prober.vis.snap_image(\"/Snapshots\")\n",
    "    #print(\"Screenshot taken\")                      \n",
    "    sleep(1)\n",
    "    \n",
    "    \n",
    "    \"\"\" prober.map.step_die(2,1,2)\n",
    "    bin_value = 0 \"\"\"\n",
    "    while True:\n",
    "        col, row, site = prober.map.subsites.bin_step_next(bin_value)\n",
    "        print(f'Position {col}, {row} (Site: {site})')\n",
    "        sleep(0.3)\n",
    "        #prober.vis.snap_image(\"/Snapshots\")\n",
    "        #print(\"Screenshot taken\")     \n",
    "        sleep(1)\n",
    "        bin_value = 0 if site == 0 else bin_value + 1\n",
    "        # Run multiple time IV-Sweep if needed. If not, set k = 1\n",
    "        print(\"Continuing stepping\")\n",
    "    \n",
    "    "
   ]
  },
  {
   "cell_type": "markdown",
   "metadata": {},
   "source": [
    "# Test chunk for K2182A"
   ]
  },
  {
   "cell_type": "code",
   "execution_count": 3,
   "metadata": {},
   "outputs": [
    {
     "name": "stdout",
     "output_type": "stream",
     "text": [
      "('TCPIP0::KEYSIGH-7F5PUI6::hislip0::INSTR', 'TCPIP0::KEYSIGH-7F5PUI6::inst0::INSTR', 'ASRL1::INSTR', 'GPIB0::6::INSTR')\n"
     ]
    }
   ],
   "source": [
    "rm = pyvisa.ResourceManager()\n",
    "print(rm.list_resources())"
   ]
  },
  {
   "cell_type": "code",
   "execution_count": 6,
   "metadata": {},
   "outputs": [
    {
     "data": {
      "text/plain": [
       "6"
      ]
     },
     "execution_count": 6,
     "metadata": {},
     "output_type": "execute_result"
    }
   ],
   "source": [
    "k2182 = rm.open_resource(\"GPIB0::6::INSTR\")\n",
    "\n",
    "k2182.write(\"*RST\")"
   ]
  },
  {
   "cell_type": "markdown",
   "metadata": {},
   "source": [
    "# Test MPI Camera Features"
   ]
  },
  {
   "cell_type": "code",
   "execution_count": null,
   "metadata": {},
   "outputs": [],
   "source": [
    "# If successful, add into loop of measurement\n",
    "prober.vis.snap_image(\"/Snapshots\")"
   ]
  },
  {
   "cell_type": "code",
   "execution_count": null,
   "metadata": {},
   "outputs": [],
   "source": [
    "prober.vis.auto_focus()"
   ]
  },
  {
   "cell_type": "markdown",
   "metadata": {},
   "source": [
    "# Test for 2182a and 2450"
   ]
  },
  {
   "cell_type": "code",
   "execution_count": 2,
   "metadata": {},
   "outputs": [
    {
     "name": "stdout",
     "output_type": "stream",
     "text": [
      "('USB0::0x05E6::0x2450::04459122::INSTR', 'TCPIP0::KEYSIGH-7F5PUI6::hislip0::INSTR', 'TCPIP0::KEYSIGH-7F5PUI6::inst0::INSTR', 'ASRL1::INSTR', 'GPIB0::6::INSTR', 'GPIB0::13::INSTR', 'GPIB0::18::INSTR')\n"
     ]
    }
   ],
   "source": [
    "rm = pyvisa.ResourceManager()\n",
    "print(rm.list_resources())"
   ]
  },
  {
   "cell_type": "code",
   "execution_count": 6,
   "metadata": {},
   "outputs": [
    {
     "data": {
      "text/plain": [
       "7"
      ]
     },
     "execution_count": 6,
     "metadata": {},
     "output_type": "execute_result"
    }
   ],
   "source": [
    "SMU = rm.open_resource('GPIB0::18::INSTR')\n",
    "nVolt = rm.open_resource('GPIB0::6::INSTR')\n",
    "\n",
    "SMU.write('*IDN?')\n",
    "#nVolt.write('*IDN?')"
   ]
  },
  {
   "cell_type": "code",
   "execution_count": 14,
   "metadata": {},
   "outputs": [
    {
     "data": {
      "text/plain": [
       "9"
      ]
     },
     "execution_count": 14,
     "metadata": {},
     "output_type": "execute_result"
    }
   ],
   "source": [
    "# Configure the SMU as a current source\n",
    "SMU.write('*RST')  # Reset the instrument\n",
    "SMU.write('SOUR:FUNC CURR')  # Set the source function to current\n",
    "SMU.write('SOUR:CURR:RANG 20E-6')  # Set the current range to 20 µA\n",
    "SMU.write('SENS:FUNC \"VOLT\"')  # Set the sense function to voltage\n",
    "SMU.write('SENS:VOLT:RANG 10E-3')  # Set the voltage range to 10 mV\n",
    "SMU.write('SENS:VOLT:NPLC 1')\n",
    "\n",
    "SMU.write('OUTP ON')  # Enable the outputv"
   ]
  },
  {
   "cell_type": "code",
   "execution_count": 9,
   "metadata": {},
   "outputs": [
    {
     "data": {
      "text/plain": [
       "20"
      ]
     },
     "execution_count": 9,
     "metadata": {},
     "output_type": "execute_result"
    }
   ],
   "source": [
    "# Configure the nanovoltmeter\n",
    "nVolt.write('*RST')  # Reset the instrument\n",
    "nVolt.write('CONF:VOLT:DC 10E-3')  # Set measurement function to DC voltage, 10 mV range"
   ]
  },
  {
   "cell_type": "code",
   "execution_count": 11,
   "metadata": {},
   "outputs": [],
   "source": [
    "# Delta mode parameters\n",
    "current_positive = 20e-6  # Positive current: 100 µA\n",
    "current_negative = -20e-6  # Negative current: -100 µA\n",
    "num_cycles = 10  # Number of cycles to alternate between currents"
   ]
  },
  {
   "cell_type": "code",
   "execution_count": 15,
   "metadata": {},
   "outputs": [],
   "source": [
    "# Perform the delta mode measurement\n",
    "data = []\n",
    "\n",
    "for cycle in range(num_cycles):\n",
    "    # Apply positive current\n",
    "    SMU.write(f'SOUR:CURR {current_positive}')  # Set the positive current\n",
    "    sleep(0.1)  # Wait for settling time\n",
    "    voltage_positive = float(nVolt.query('READ?'))  # Measure voltage for positive current\n",
    "\n",
    "    # Apply negative current\n",
    "    SMU.write(f'SOUR:CURR {current_negative}')  # Set the negative current\n",
    "    sleep(0.1)  # Wait for settling time\n",
    "    voltage_negative = float(nVolt.query('READ?'))  # Measure voltage for negative current\n",
    "\n",
    "    # Compute average voltage for the cycle\n",
    "    average_voltage = (voltage_positive - voltage_negative) / 2\n",
    "\n",
    "    # Store positive, negative, and average voltages in the data\n",
    "    data.append((current_positive, voltage_positive, current_negative, voltage_negative, average_voltage))\n",
    "\n",
    "\n",
    "# Turn off the SMU output after measurement\n",
    "SMU.write('OUTP OFF')\n",
    "\n",
    "# Save data to a CSV file\n",
    "import csv\n",
    "\n",
    "with open('delta_mode_data.csv', 'w', newline='') as f:\n",
    "    writer = csv.writer(f)\n",
    "    # Write headers\n",
    "    writer.writerow(['Current_Positive (A)', 'Voltage_Positive (V)', 'Current_Negative (A)', 'Voltage_Negative (V)', 'Average Voltage (V)'])\n",
    "    # Write data\n",
    "    writer.writerows(data)"
   ]
  },
  {
   "cell_type": "code",
   "execution_count": null,
   "metadata": {},
   "outputs": [],
   "source": [
    "data = []\n",
    "\n",
    "                    for cycle in range(num_cycles):\n",
    "  \n",
    "                        SMU.write(f'SOUR:CURR {current_positive}')  # Set the positive current\n",
    "                        sleep(0.1)  # Wait for settling time\n",
    "                        voltage_positive = float(nVolt.query('READ?'))  # Measure voltage for positive current\n",
    "\n",
    "   \n",
    "                        SMU.write(f'SOUR:CURR {current_negative}')  # Set the negative current\n",
    "                        sleep(0.1)  # Wait for settling time\n",
    "                        voltage_negative = float(nVolt.query('READ?'))  # Measure voltage for negative current\n",
    "\n",
    "  \n",
    "                        average_voltage = (voltage_positive - voltage_negative) / 2\n",
    "\n",
    "    \n",
    "                        data.append((current_positive, voltage_positive, current_negative, voltage_negative, average_voltage))\n",
    "                        df = pd.DataFrame(data, columns=['Current_Positive (A)', 'Voltage_Positive (V)', 'Current_Negative (A)', 'Voltage_Negative (V)', 'Average Voltage (V)'])\n",
    "                        filename = f'Delta_Voltage_{col}_{row}_{site}_{l}.csv'\n",
    "                        df.to_csv(filename, index=False)"
   ]
  },
  {
   "cell_type": "code",
   "execution_count": 21,
   "metadata": {},
   "outputs": [
    {
     "name": "stdout",
     "output_type": "stream",
     "text": [
      "[100000000.0, -100000000.0, 95000000.0, -95000000.0, 90000000.0, -90000000.0, 85000000.0, -85000000.0, 80000000.0, -80000000.0, 75000000.0, -75000000.0, 70000000.0, -70000000.0, 65000000.0, -65000000.0, 60000000.0, -60000000.0, 55000000.0, -55000000.0, 50000000.0, -50000000.0, 45000000.0, -45000000.0, 40000000.0, -40000000.0, 35000000.0, -35000000.0, 30000000.0, -30000000.0, 25000000.0, -25000000.0, 20000000.0, -20000000.0, 15000000.0, -15000000.0, 10000000.0, -10000000.0, 5000000.0, -5000000.0, 0.0]\n"
     ]
    }
   ],
   "source": [
    "sweep_currents = []\n",
    "for i in range(100, 0, -5):\n",
    "           sweep_currents.extend([i, -i])\n",
    "sweep_currents.append(0)  # Add the 0 current at the end\n",
    "sweep_currents = [current * 1e6 for current in sweep_currents]\n",
    "print(sweep_currents)"
   ]
  }
 ],
 "metadata": {
  "kernelspec": {
   "display_name": "Python 3",
   "language": "python",
   "name": "python3"
  },
  "language_info": {
   "codemirror_mode": {
    "name": "ipython",
    "version": 3
   },
   "file_extension": ".py",
   "mimetype": "text/x-python",
   "name": "python",
   "nbconvert_exporter": "python",
   "pygments_lexer": "ipython3",
   "version": "3.12.5"
  }
 },
 "nbformat": 4,
 "nbformat_minor": 2
}
