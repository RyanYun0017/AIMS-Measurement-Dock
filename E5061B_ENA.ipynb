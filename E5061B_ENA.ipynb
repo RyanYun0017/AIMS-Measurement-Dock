{
 "cells": [
  {
   "cell_type": "code",
   "execution_count": 113,
   "metadata": {
    "collapsed": true
   },
   "outputs": [],
   "source": [
    "#READ ME\n",
    "#This code is written by utilizing the following resources:\n",
    "#1)https://www.keysight.com/us/en/library/manuals/help-file/e5061b-network-analyzer-pdf-help-for-firmware-rev-a020x-1842257\n",
    "#2)https://docs.keysight.com/kkbopen/e5063a-python-example-for-basic-measurement-setup-and-calibration-607279081.html\n",
    "#3)https://docs.keysight.com/kkbopen/python-example-program-for-e5080b-csv-trace-data-save-and-binary-transfer-to-controller-pc-721232696.html"
   ]
  },
  {
   "cell_type": "code",
   "execution_count": 35,
   "metadata": {
    "collapsed": false
   },
   "outputs": [],
   "source": [
    "from tkinter import *\n",
    "from tkinter import ttk #This interface allow us to draw windows\n",
    "import time\n",
    "import pyvisa"
   ]
  },
  {
   "cell_type": "code",
   "execution_count": 36,
   "metadata": {
    "collapsed": false
   },
   "outputs": [],
   "source": [
    "rm = pyvisa.ResourceManager()\n",
    "# Input the target instrument IP address\n",
    "Addr = 'GPIB0::17::INSTR'\n",
    "inst = rm.open_resource(Addr)\n",
    "root = Tk()\n",
    "#    return inst"
   ]
  },
  {
   "cell_type": "markdown",
   "metadata": {
    "collapsed": false
   },
   "source": [
    "## Identify the Instrument"
   ]
  },
  {
   "cell_type": "code",
   "execution_count": 37,
   "metadata": {
    "collapsed": false
   },
   "outputs": [],
   "source": [
    "def connection_control():\n",
    "    inst.write('*RST')\n",
    "    inst.write('*CLS')\n",
    "    # Query Instrument ID\n",
    "    idn = inst.query('*IDN?')\n",
    "    frame = ttk.Frame(root, padding=100)\n",
    "    frame.grid()\n",
    "    lab = ttk.Label(frame, text = 'Connection to '+idn+'was succesful',justify='left')\n",
    "    lab.grid(column=0, row=0)\n",
    "    root.mainloop()"
   ]
  },
  {
   "cell_type": "code",
   "execution_count": 38,
   "metadata": {},
   "outputs": [],
   "source": [
    "connection_control()"
   ]
  },
  {
   "cell_type": "markdown",
   "metadata": {
    "collapsed": false
   },
   "source": [
    "## Wait for Instrument to Finish Procedure and Preset the Instrument"
   ]
  },
  {
   "cell_type": "code",
   "execution_count": 6,
   "metadata": {
    "collapsed": false
   },
   "outputs": [],
   "source": [
    "#when you write a program that issues multiple calibration commands in series, you should use the *OPC?\n",
    "# command or some other means to ensure that no command is executed before the preceding command completes itself.\n",
    "def wait():\n",
    "    inst.write('*OPC')\n",
    "    sta = 0\n",
    "    while (sta & 1 ) == 0:\n",
    "        sta = int(inst.query('*ESR?'))\n",
    "        #This command reads the value of the Standard Event Status Register. Execution of this command clears the register value.\n",
    "        time.sleep(1)\n",
    "    return sta\n",
    "\n",
    "# Preset the instrument\n",
    "def Preset():\n",
    "    inst.write(':SYST:PRES')"
   ]
  },
  {
   "cell_type": "code",
   "execution_count": 44,
   "metadata": {},
   "outputs": [],
   "source": [
    "Preset()"
   ]
  },
  {
   "cell_type": "markdown",
   "metadata": {
    "collapsed": false
   },
   "source": [
    "## Set the Frequency, Sweep Points, and IF Bandwidth"
   ]
  },
  {
   "cell_type": "code",
   "execution_count": 51,
   "metadata": {
    "collapsed": false
   },
   "outputs": [],
   "source": [
    "def set_frequency(channel_no, start, stop, points,autoIF, IF = 10):\n",
    "    inst.write(':SENS%d:FREQ:STAR %s' %(int(channel_no), str(start)))\n",
    "    inst.write(':SENS%d:FREQ:STOP %s' %(int(channel_no), str(stop)))\n",
    "    inst.write(':SENS%d:SWE:POIN %d' %(int(channel_no), int(points)))\n",
    "    if autoIF == 1:\n",
    "        inst.write(':SENS%d:BWA ON' %(int(channel_no)))\n",
    "    else:\n",
    "        inst.write(':SENS%d:BAND:RES %s' %(int(channel_no), str(IF)))"
   ]
  },
  {
   "cell_type": "code",
   "execution_count": 52,
   "metadata": {},
   "outputs": [],
   "source": [
    "set_frequency(channel_no=1,start=100, stop=10e3, points=1000,autoIF=1)"
   ]
  },
  {
   "cell_type": "markdown",
   "metadata": {
    "collapsed": false
   },
   "source": [
    "## Set Number of Traces"
   ]
  },
  {
   "cell_type": "code",
   "execution_count": 10,
   "metadata": {
    "collapsed": false
   },
   "outputs": [],
   "source": [
    "# Set numbers of traces\n",
    "def set_no_traces(channel_no, NTrace):\n",
    "    inst.write(':CALC%d:PAR:COUN %s'%(int(channel_no), str(NTrace)))"
   ]
  },
  {
   "cell_type": "code",
   "execution_count": 53,
   "metadata": {},
   "outputs": [],
   "source": [
    "set_no_traces(1,3)"
   ]
  },
  {
   "cell_type": "markdown",
   "metadata": {
    "collapsed": false
   },
   "source": [
    "## Set S-parameters"
   ]
  },
  {
   "cell_type": "code",
   "execution_count": 31,
   "metadata": {
    "collapsed": false
   },
   "outputs": [],
   "source": [
    "# Set S-Parameters such as S11, S12, S21, S22\n",
    "def set_s_parameters(channel_no, trace, s_parameters):\n",
    "    inst.write(':CALC%d:PAR%d:DEF %s' %(int(channel_no), int(trace), str(s_parameters)))\n",
    "\n",
    "set_s_parameters(1,1,\"S12\")"
   ]
  },
  {
   "cell_type": "markdown",
   "metadata": {},
   "source": [
    "# Set Impedance"
   ]
  },
  {
   "cell_type": "code",
   "execution_count": 61,
   "metadata": {},
   "outputs": [],
   "source": [
    "def set_impedance(channel_no,trace, mode = \"Z\"):\n",
    "\n",
    "    inst.write(':CALC%d:PAR%d:DEF %s' %(int(channel_no), int(trace), str(mode)))\n",
    "\n",
    "set_impedance(1,2,mode=\"S22\")"
   ]
  },
  {
   "cell_type": "markdown",
   "metadata": {
    "collapsed": false
   },
   "source": [
    "## Choose Trace Format"
   ]
  },
  {
   "cell_type": "code",
   "execution_count": 118,
   "metadata": {
    "collapsed": false
   },
   "outputs": [],
   "source": [
    "# Choose trace format\n",
    "#def trace_format(a,trace,m1,m2):\n",
    "#    if a in m1:\n",
    "#        ind = m1.index(a)\n",
    "#        inst.write(':CALC1:TRAC%d:FORM %s' %(trace,m2[ind]))\n",
    "def trace_format(channel_no, form):\n",
    "    inst.write(':CALC%d:FORM %s' %(int(channel_no), str(form)))"
   ]
  },
  {
   "cell_type": "markdown",
   "metadata": {
    "collapsed": false
   },
   "source": [
    "## Check if Command is Completed"
   ]
  },
  {
   "cell_type": "code",
   "execution_count": 119,
   "metadata": {
    "collapsed": false
   },
   "outputs": [],
   "source": [
    "def check_status(windows,state):\n",
    "    if int(state) == 1:\n",
    "        lab= ttk.Label(windows, text = 'Procedure Completed')\n",
    "        lab.place(relx=.1, rely=.85)\n",
    "    else:\n",
    "        lab= ttk.Label(windows, text = inst.query(':SYST:ERR?'))\n",
    "        lab.place(relx=.1, rely=.85)"
   ]
  },
  {
   "cell_type": "markdown",
   "metadata": {
    "collapsed": false
   },
   "source": [
    "## Save Trace to File (.csv file)"
   ]
  },
  {
   "cell_type": "code",
   "execution_count": 120,
   "metadata": {
    "collapsed": false
   },
   "outputs": [],
   "source": [
    "def save_trace_csv(trace_name):\n",
    "    inst.write(':MMEM:STOR:FDAT %s.csv' % str(trace_name))\n",
    "    state = wait()\n",
    "    if int(state) == 1:\n",
    "        lab= ttk.Label(root, text = 'Trace Saved')\n",
    "        lab.place(relx=.02, rely=.7)"
   ]
  },
  {
   "cell_type": "markdown",
   "metadata": {
    "collapsed": false
   },
   "source": [
    "## Save Measurement Data in Touchstone Format"
   ]
  },
  {
   "cell_type": "code",
   "execution_count": 121,
   "metadata": {
    "collapsed": false
   },
   "outputs": [],
   "source": [
    "def save_trace_s2p(data_type, trace_name):\n",
    "    #To set the data type of the files saved in touchstone format, use the following command:\n",
    "    inst.write(':MMEM:STOR:SNP:FORM %s' % str(data_type)) #Data types:{DB: decibel-angle  RI: real-imaginary MA: magnitude-angle}\n",
    "    #To determine the file type in touchstone file format and specify a port, use one of the following commands according to the number of ports used:\n",
    "    inst.write(':MMEM:STOR:SNP:TYPE:S2P 1,2') #port 1 and port 2\n",
    "    #To save measurement data in touchstone format, use the following command:\n",
    "    inst.write(':MMEM:STOR:SNP %s' % str(trace_name))\n",
    "    state = wait()\n",
    "    if int(state) == 1:\n",
    "        lab= ttk.Label(root, text = 'Trace Saved')\n",
    "        lab.place(relx=.02, rely=.7)\n",
    "\n",
    "def save_trace_s1p(data_type, port_name, trace_name):\n",
    "    #To set the data type of the files saved in touchstone format, use the following command:\n",
    "    inst.write(':MMEM:STOR:SNP:FORM %s' % str(data_type)) #Data types:{DB: decibel-angle  RI: real-imaginary MA: magnitude-angle}\n",
    "    #To determine the file type in touchstone file format and specify a port, use one of the following commands according to the number of ports used:\n",
    "    inst.write(':MMEM:STOR:SNP:TYPE:S1P %s' % str(port_name)) #port 1 or port 2\n",
    "    #To save measurement data in touchstone format, use the following command:\n",
    "    inst.write(':MMEM:STOR:SNP %s' % str(trace_name))\n",
    "    state = wait()\n",
    "    if int(state) == 1:\n",
    "        lab= ttk.Label(root, text = 'Trace Saved')\n",
    "        lab.place(relx=.02, rely=.7)"
   ]
  },
  {
   "cell_type": "markdown",
   "metadata": {
    "collapsed": false
   },
   "source": [
    "## 2 - port calibration"
   ]
  },
  {
   "cell_type": "code",
   "execution_count": null,
   "metadata": {
    "collapsed": false
   },
   "outputs": [],
   "source": [
    "def calibration_1_port(channel_no, port_no):\n",
    "    #Syntax= :SENSe{[1]-4}:CORRection:COLLect:METHod:SOLT1 <numeric>\n",
    "    #Description= This command sets the calibration type to the 1-port calibration of the specified port, for the selected channel (Ch).\n",
    "    inst.write(':SENS%d:CORR:COLL:METH:SOLT1 %d' %(int(channel_no), int(port_no)))\n",
    "\n",
    "def calibration_2_port(channel_no, port_no_1, port_no_2):\n",
    "    #Syntax= :SENSe{[1]-4}:CORRection:COLLect:METHod:SOLT2 <numeric 1>,<numeric 2>\n",
    "    #Description= This command sets the calibration type to the full 2-port calibration between the specified 2 ports, for the selected channel (Ch).\n",
    "    inst.write(':SENS%d:CORR:COLL:METH:SOLT2 %d,%d' %(int(channel_no), int(port_no_1), int(port_no_2)))\n",
    "\n",
    "#To select a calibration kit\n",
    "def select_calibration_kit(channel_no, calkit_name):\n",
    "    inst.write(':SENS%d:CORR:COLL:CKIT %s' %(int(channel_no), str(calkit_name)))\n",
    "\n",
    "def check_calibration_type(channel_no, trace_no):\n",
    "    cal_type = inst.query(':SENS%d:CORR:TYPE%d?' %(int(channel_no), int(trace_no)))\n",
    "    return cal_type\n",
    "\n",
    "def open_calibration(channel_no, port_no):\n",
    "    #Syntax= :SENSe{[1]-4}:CORRection:COLLect[:ACQuire]:OPEN <numeric>\n",
    "    #Description= This command measures the calibration data of the open standard for the specified port, for the selected channel (Ch).\n",
    "    inst.write(':SENS%d:CORR:COLl:OPEN %d' %(int(channel_no), int(port_no)))\n",
    "    state = wait()\n",
    "    return state\n",
    "\n",
    "def short_calibration(channel_no, port_no):\n",
    "    #Syntax= :SENSe{[1]-4}:CORRection:COLLect[:ACQuire]:SHORt <numeric>\n",
    "    #Description= This command measures the calibration data of the short standard for the specified port, for the selected channel (Ch).\n",
    "    inst.write(':SENS%d:CORR:COLL:SHOR %d' %(int(channel_no), int(port_no)))\n",
    "    state = wait()\n",
    "    return state\n",
    "\n",
    "def load_calibration(channel_no, port_no):\n",
    "    #Syntax= :SENSe{[1]-4}:CORRection:COLLect[:ACQuire]:LOAD <numeric>\n",
    "    #Description= This command measures the calibration data of the load standard for the specified port, for the selected channel (Ch).\n",
    "    inst.write(':SENS%d:CORR:COLL:LOAD %d' %(int(channel_no), int(port_no)))\n",
    "    state = wait()\n",
    "    return state\n",
    "\n",
    "def through_12_calibration(channel_no, port_no_1, port_no_2):\n",
    "    #Syntax= :SENSe{[1]-4}:CORRection:COLLect[:ACQuire]:LOAD <numeric>\n",
    "    #Description= This command measures the calibration data of the load standard for the specified port, for the selected channel (Ch).\n",
    "    inst.write(':SENS%d:CORR:COLL:THRU %d,%d' %(int(channel_no), int(port_no_1), int(port_no_2)))\n",
    "    state1 = wait()\n",
    "    state2 = 0\n",
    "    if state1 == 1:\n",
    "        inst.write(':SENS%d:CORR:COLL:THRU %d,%d' %(int(channel_no), int(port_no_2), int(port_no_1)))\n",
    "        state2 = wait()\n",
    "    return state1, state2\n",
    "\n",
    "#to save the calibration\n",
    "def save_calibration(channel_no):\n",
    "    inst.write(':SENS%d:CORR:COLL:SAVE' %(int(channel_no)))\n",
    "    state = wait()\n",
    "    return state\n",
    "\n"
   ]
  }
 ],
 "metadata": {
  "kernelspec": {
   "display_name": "Python 3",
   "language": "python",
   "name": "python3"
  },
  "language_info": {
   "codemirror_mode": {
    "name": "ipython",
    "version": 3
   },
   "file_extension": ".py",
   "mimetype": "text/x-python",
   "name": "python",
   "nbconvert_exporter": "python",
   "pygments_lexer": "ipython3",
   "version": "3.12.5"
  }
 },
 "nbformat": 4,
 "nbformat_minor": 0
}
